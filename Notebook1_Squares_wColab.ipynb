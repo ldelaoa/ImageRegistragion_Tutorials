{
  "cells": [
    {
      "cell_type": "markdown",
      "id": "bf0b3793",
      "metadata": {
        "id": "bf0b3793"
      },
      "source": [
        "# Image Registration Notebook 1\n",
        "#### For 2D images\n",
        "\n",
        "More info of the code used here on: https://simpleitk.readthedocs.io/en/master/registrationOverview.html .  \n",
        "\n",
        "Author: Luis de la O\n",
        "\n",
        "Welcome to this notebook on image registration! In this assignment, we will be experimenting with basic functions for registration of two images.\n",
        "\n",
        "First we will explore the most common transforms and parameters to register basic figures as squares.\n",
        "On the second notebook,  we will use this functions on a real world data."
      ]
    },
    {
      "cell_type": "markdown",
      "id": "4faa8bef",
      "metadata": {
        "id": "4faa8bef"
      },
      "source": [
        "**Notebook 1** :  \n",
        "In this notebook we will use several custom python modules, that have to be installed before we can use them.\n",
        "This is done in the code cell below. Please execute it and wait a bit for the installation to complete\n",
        "\n",
        "After executing the cell, you should see quite a bit of lines of output, ending with a message stating that the installations and imports were completed succesfully."
      ]
    },
    {
      "cell_type": "code",
      "execution_count": 1,
      "id": "31e21733",
      "metadata": {
        "ExecuteTime": {
          "end_time": "2023-08-03T14:35:59.053706032Z",
          "start_time": "2023-08-03T14:35:58.984965687Z"
        },
        "colab": {
          "base_uri": "https://localhost:8080/"
        },
        "id": "31e21733",
        "outputId": "ce6f5fe0-84ce-4aea-9563-9d8526024a0a"
      },
      "outputs": [
        {
          "output_type": "stream",
          "name": "stdout",
          "text": [
            "Requirement already satisfied: SimpleITK in /usr/local/lib/python3.10/dist-packages (2.3.0)\n"
          ]
        }
      ],
      "source": [
        "!pip install SimpleITK\n",
        "\n",
        "import SimpleITK as sitk\n",
        "import os\n",
        "import matplotlib.pyplot as plt\n",
        "import numpy as np"
      ]
    },
    {
      "cell_type": "code",
      "execution_count": 2,
      "id": "91b196be",
      "metadata": {
        "ExecuteTime": {
          "end_time": "2023-08-03T14:35:59.054270109Z",
          "start_time": "2023-08-03T14:35:59.026104580Z"
        },
        "colab": {
          "base_uri": "https://localhost:8080/"
        },
        "id": "91b196be",
        "outputId": "5fe9db71-0520-412f-89bc-002bbf6630de"
      },
      "outputs": [
        {
          "output_type": "stream",
          "name": "stdout",
          "text": [
            "SimpleITK Version: SimpleITK Version: 2.3.0 (ITK 5.3)\n",
            "Compiled: Sep 12 2023 18:43:59\n",
            "\n"
          ]
        }
      ],
      "source": [
        "#Version >2 is necessary\n",
        "print(\"SimpleITK Version:\", sitk.Version())"
      ]
    },
    {
      "cell_type": "markdown",
      "id": "a613d1b1",
      "metadata": {
        "id": "a613d1b1"
      },
      "source": [
        "### Mounting google drive to the notebook\n",
        "This Colab notebook runs on a virtual machine (VM), hosted in one of Google's datacenters. By itself, it does not have any data associated with it (other than the default required to run CoLab). In order to do our segmentation project, we have to give it access to the dataset.\n",
        "\n",
        "The easiest way to do this is by mounting your google drive on the VM. That way, you will give the notebook access to the data stored in your drive, such that it can be used for training and evaluating the models.\n",
        "\n",
        "The code cell below starts the authentication procedure to mount your google drive. Please execute it and follow the authentication link that will show up in the cell. This will give you an authorization code. Enter that code in designated field in the cell below and press Enter to complete the authentication.\n"
      ]
    },
    {
      "cell_type": "code",
      "execution_count": 3,
      "id": "443fcb61",
      "metadata": {
        "colab": {
          "base_uri": "https://localhost:8080/"
        },
        "id": "443fcb61",
        "outputId": "dfd6f233-e4ab-49f5-8742-8da3cbf9b088"
      },
      "outputs": [
        {
          "output_type": "stream",
          "name": "stdout",
          "text": [
            "Drive already mounted at /gdrive; to attempt to forcibly remount, call drive.mount(\"/gdrive\", force_remount=True).\n"
          ]
        }
      ],
      "source": [
        "from google.colab import drive\n",
        "drive.mount('/gdrive')"
      ]
    },
    {
      "cell_type": "markdown",
      "source": [
        "**Run the following definitions cell. no need to edit it, during the assignment**"
      ],
      "metadata": {
        "id": "jJr1CI4ap0ky"
      },
      "id": "jJr1CI4ap0ky"
    },
    {
      "cell_type": "code",
      "execution_count": 4,
      "id": "64d1ccb8",
      "metadata": {
        "id": "64d1ccb8",
        "cellView": "form"
      },
      "outputs": [],
      "source": [
        "# @title\n",
        "#Run the following cell, no need to edit it, during the assignment\n",
        "#author Luis de la O\n",
        "\n",
        "import SimpleITK as sitk\n",
        "import numpy as np\n",
        "import os\n",
        "import math\n",
        "from skimage.measure import regionprops,label\n",
        "from skimage import filters\n",
        "\n",
        "\n",
        "def getCenter(image):\n",
        "    threshold_value = filters.threshold_otsu(image)\n",
        "    labeled_foreground = (image > threshold_value).astype(int)\n",
        "    properties = regionprops(labeled_foreground, image)\n",
        "    center_of_mass = properties[0].centroid\n",
        "    weighted_center_of_mass = properties[0].weighted_centroid\n",
        "    return center_of_mass,weighted_center_of_mass\n",
        "\n",
        "\n",
        "# Functions 2D Translation2D Euler2D Similarity2D ScaleTransform2D\n",
        "# Functions 3D Translation3D Euler3D VersorRigid3D Similarity3D Scale3D\n",
        "def transformation_fun_select(arg,image):\n",
        "    if arg == \"Euler2D\":\n",
        "        return sitk.Euler2DTransform()\n",
        "    if arg == \"Similarity2D\":\n",
        "        return sitk.Similarity2DTransform()\n",
        "    if arg == \"ScaleTransform2D\":\n",
        "        return sitk.ScaleTransform(2)\n",
        "    if arg == \"Translation3D\":\n",
        "        return sitk.TranslationTransform(3)\n",
        "    if arg == \"Euler3D\":\n",
        "        return sitk.Euler3DTransform()\n",
        "    if arg == \"Similarity3D\":\n",
        "        return sitk.Similarity3DTransform()\n",
        "    if arg == \"VersorRigid3D\":\n",
        "        return sitk.VersorRigid3DTransform()\n",
        "    if arg == \"Scale3D\":\n",
        "        return sitk.ScaleVersor3DTransform()\n",
        "\n",
        "\n",
        "def tailor_registration(fixed_array,moving_array,transf_spec,center_spec,metric_spec,gradient_spec,shift_sepc,offset=\"Diff\",iterations_spec=300,lr=1,minStep=.00001,gradientT=1e-7,convWinSize=10,convMinVal=1e-7,plot_bool=False):\n",
        "    fixed_image = sitk.GetImageFromArray(fixed_array)\n",
        "    moving_image = sitk.GetImageFromArray(moving_array)\n",
        "    fixed_image = sitk.Cast(fixed_image, sitk.sitkFloat32)\n",
        "    moving_image = sitk.Cast(moving_image, sitk.sitkFloat32)\n",
        "\n",
        "    transf_fun = transformation_fun_select(transf_spec,moving_array)\n",
        "    if center_spec == \"Geometry\":\n",
        "        center_fun = sitk.CenteredTransformInitializerFilter.GEOMETRY\n",
        "    elif center_spec == \"Moments\":\n",
        "        center_fun = sitk.CenteredTransformInitializerFilter.MOMENTS\n",
        "    else:\n",
        "        center_fun = sitk.CenteredTransformInitializerFilter.GetName()\n",
        "        print(center_fun)\n",
        "    #INITIALIZE\n",
        "    registration_method = sitk.ImageRegistrationMethod()\n",
        "    if transf_spec != \"Translation2D\":\n",
        "        initial_transform = sitk.CenteredTransformInitializer(fixed_image, moving_image, transf_fun, center_fun)\n",
        "        registration_method.SetInitialTransform(initial_transform, inPlace=False)\n",
        "    else:\n",
        "        #For 1D translation w_center of fixed array worked as offset\n",
        "        if offset == \"Diff\":\n",
        "            centroid_fix, w_center_fix = getCenter(fixed_array)\n",
        "            centr_mov, w_center_mov = getCenter(moving_array)\n",
        "            centroid_difference = (w_center_fix[0] - w_center_mov[0], w_center_fix[1] - w_center_mov[1])\n",
        "        elif offset == \"Fix\":\n",
        "            centroid_fix, w_center_fix = getCenter(fixed_array)\n",
        "            centroid_difference = w_center_fix\n",
        "        elif offset == \"Mov\":\n",
        "            centroid_fix, w_center_fix = getCenter(moving_array)\n",
        "            centroid_difference = w_center_fix\n",
        "        else:\n",
        "            print(\"No Offset Selected\")\n",
        "\n",
        "        translation_transform = sitk.TranslationTransform(2,centroid_difference)\n",
        "        rigid_transform = sitk.Euler2DTransform()\n",
        "        rigid_transform.SetTranslation(translation_transform.GetOffset())\n",
        "        registration_method.SetInitialTransform(rigid_transform, inPlace=False)\n",
        "\n",
        "    #METRICS\n",
        "    if metric_spec == \"Correlation\":\n",
        "        registration_method.SetMetricAsCorrelation()\n",
        "    elif metric_spec == \"MatesMutualInformation\":\n",
        "        registration_method.SetMetricAsMattesMutualInformation(numberOfHistogramBins=100)\n",
        "    elif metric_spec == \"MeanSquares\":\n",
        "        registration_method.SetMetricAsMeanSquares()\n",
        "    else:\n",
        "        print(\"Error: No metric selected\")\n",
        "        exit(1)\n",
        "    registration_method.SetMetricSamplingStrategy(registration_method.RANDOM)\n",
        "    registration_method.SetMetricSamplingPercentage(0.2)\n",
        "\n",
        "    #OPTIMIZER\n",
        "    if gradient_spec == \"RegularStepGradientDescent\":\n",
        "        registration_method.SetOptimizerAsRegularStepGradientDescent(learningRate=lr, numberOfIterations=iterations_spec,minStep=minStep, gradientMagnitudeTolerance=gradientT)\n",
        "    elif gradient_spec == \"GradientDescent\":\n",
        "        registration_method.SetOptimizerAsGradientDescent(learningRate=lr, numberOfIterations=iterations_spec,convergenceMinimumValue=convMinVal,convergenceWindowSize=convWinSize)\n",
        "    else:\n",
        "        print(\"Error: No metric selected\")\n",
        "        exit(1)\n",
        "\n",
        "    if shift_sepc == \"PhysicalShift\":\n",
        "        registration_method.SetOptimizerScalesFromPhysicalShift()\n",
        "    elif shift_sepc == \"IndexShift\":\n",
        "        registration_method.SetOptimizerScalesFromIndexShift()\n",
        "    else:\n",
        "        print(\"Error: No metric selected\")\n",
        "        exit(1)\n",
        "\n",
        "    #Registration\n",
        "    final_transform = registration_method.Execute(fixed_image, moving_image)\n",
        "    evaluationMetric = registration_method.GetMetricValue()\n",
        "    initial_metric_value = registration_method.MetricEvaluate(fixed_image, moving_image)\n",
        "    print(f\"Initial metric value: {initial_metric_value}\")\n",
        "    print(f\"Final metric value: {evaluationMetric}\")\n",
        "    print(f\"Optimizer's stopping condition: {registration_method.GetOptimizerStopConditionDescription()}\")\n",
        "    moved_image = sitk.Resample(moving_image, fixed_image, final_transform, sitk.sitkLinear, 0.0, moving_image.GetPixelID())\n",
        "    moved_array = sitk.GetArrayFromImage(moved_image)\n",
        "\n",
        "    return moved_array,evaluationMetric,final_transform"
      ]
    },
    {
      "cell_type": "markdown",
      "id": "f6d6d623",
      "metadata": {
        "id": "f6d6d623"
      },
      "source": [
        "The data on your google drive is now available to the notebook in the folder '/gdrive'. You can use the file explorer in the menu bar on the left or right side of the screen (click on the folder icon) to explore the file structure.\n",
        "\n",
        "Once you've opened the file explorer, *you should see only two icons: one folder titled '..' and one titled 'sample_data'.* **Click on the '..' folder**, this will take you to the root directory. In here, look for the 'gdrive' folder and expand it to inspect the content. It probably contains another folder called 'My Drive'. This directory should show the files and folders on your google drive.\n",
        "\n",
        "**NOTE**: The default working directory in colab is the '/content' folder. If you expand that one, you should see the 'sample_data' directory again.\n",
        "\n",
        "**NOTE2**: At the top menu of the file explorer, there is an icon with the google drive logo on it. Do not click this! This is not a shortcut to your gdrive folder, but will attempt to remount your google drive, breaking it in the process."
      ]
    },
    {
      "cell_type": "markdown",
      "id": "6aec4f8a",
      "metadata": {
        "id": "6aec4f8a"
      },
      "source": [
        "## Load your database as ndarray and display it\n",
        "Edit the root variable if neccesary to where your data is stored.\n",
        "Noticed that inside the folder there are 9 squares. Each of them has a different number.\n",
        "We assume that Square1 will be our fixed image and the rest of them (from 2 to 9) will be moving images that needs to be registered.   \n",
        "Each Square has a different disruption, in the cell bellow you can also see it."
      ]
    },
    {
      "cell_type": "code",
      "execution_count": 6,
      "id": "dbee907a",
      "metadata": {
        "ExecuteTime": {
          "end_time": "2023-08-03T14:35:59.518875870Z",
          "start_time": "2023-08-03T14:35:59.026206613Z"
        },
        "colab": {
          "base_uri": "https://localhost:8080/",
          "height": 148
        },
        "id": "dbee907a",
        "outputId": "4afd20f3-aee8-458c-97ab-dd598c6c244c"
      },
      "outputs": [
        {
          "output_type": "display_data",
          "data": {
            "text/plain": [
              "<Figure size 640x480 with 9 Axes>"
            ],
            "image/png": "[encoded data removed]"
          },
          "metadata": {}
        },
        {
          "output_type": "stream",
          "name": "stdout",
          "text": [
            "Sq1:Fixed image, Sq2:Translation 2D, Sq3:Isometric scaling, Sq4:Rotation, Sq5:Translation 1D\n",
            "Sq6:Tanslation1D + Rotation, Sq7:Translation 2D + Rotation, Sq8:scaling +Rotation, Sq9:Rotation + Scaling + Translation\n"
          ]
        }
      ],
      "source": [
        "root = \"/gdrive/My Drive/ImageRegistration/RegistrationPart1/Dataset1_Squares/\"\n",
        "sqs = [\"Square1.jpg\",\"Square2.jpg\",\"Square3.jpg\",\"Square4.jpg\",\"Square5.jpg\",\"Square6.jpg\",\"Square7.jpg\",\"Square8.jpg\",\"Square9.jpg\"]\n",
        "for i in range(len(sqs)):\n",
        "    image_sitk = sitk.ReadImage(root+sqs[i], sitk.sitkFloat32)\n",
        "    image_array = sitk.GetArrayFromImage(image_sitk)\n",
        "    plt.subplot(1,9,i+1),plt.imshow(image_array),plt.axis('off')\n",
        "    plt.title(i+1)\n",
        "\n",
        "plt.tight_layout()\n",
        "plt.show()\n",
        "\n",
        "print(\"Sq1:Fixed image, Sq2:Translation 2D, Sq3:Isometric scaling, Sq4:Rotation, Sq5:Translation 1D\")\n",
        "print(\"Sq6:Tanslation1D + Rotation, Sq7:Translation 2D + Rotation, Sq8:scaling +Rotation, Sq9:Rotation + Scaling + Translation\")"
      ]
    },
    {
      "cell_type": "markdown",
      "id": "dc26e3eb",
      "metadata": {
        "id": "dc26e3eb"
      },
      "source": [
        "To explain this notebook, we assume Square 1 is the fixed image and Square 3 will be our moving image.\n",
        "\n",
        "Now we are going to load them as image them with the library SimpleITK, and also show them for you to inspect more in detail."
      ]
    },
    {
      "cell_type": "code",
      "execution_count": 7,
      "id": "3b47d958",
      "metadata": {
        "ExecuteTime": {
          "end_time": "2023-08-03T14:35:59.562225054Z",
          "start_time": "2023-08-03T14:35:59.521798820Z"
        },
        "colab": {
          "base_uri": "https://localhost:8080/",
          "height": 245
        },
        "id": "3b47d958",
        "outputId": "a33d97cb-a4db-4fe6-ca83-62a736266f6a"
      },
      "outputs": [
        {
          "output_type": "stream",
          "name": "stdout",
          "text": [
            "Image dimensions: Fixed Image:  (512, 512)  Moving Image: (512, 512)\n"
          ]
        },
        {
          "output_type": "display_data",
          "data": {
            "text/plain": [
              "<Figure size 640x480 with 3 Axes>"
            ],
            "image/png": "[encoded data removed]"
          },
          "metadata": {}
        }
      ],
      "source": [
        "#Select\n",
        "fixed_image_path = root+\"Square1.jpg\"\n",
        "moving_image_path = root+\"Square4.jpg\" #When selecting other images mantain the format Square.jpg\n",
        "\n",
        "#Load\n",
        "fixed_image = sitk.ReadImage(fixed_image_path, sitk.sitkFloat32)\n",
        "moving_image = sitk.ReadImage(moving_image_path, sitk.sitkFloat32)\n",
        "fixed_array = sitk.GetArrayFromImage(fixed_image)\n",
        "moving_array = sitk.GetArrayFromImage(moving_image)\n",
        "\n",
        "#Visualize both of your images, notice the difference between them\n",
        "print(\"Image dimensions: Fixed Image: \",fixed_array.shape,\" Moving Image:\", moving_array.shape)\n",
        "plt.subplot(131),plt.imshow(fixed_array),plt.title('Fixed')\n",
        "plt.subplot(132),plt.imshow(moving_array),plt.title('Moving')\n",
        "plt.subplot(133),plt.imshow(moving_array-fixed_array),plt.title('Difference between them')\n",
        "plt.show()"
      ]
    },
    {
      "cell_type": "code",
      "execution_count": 8,
      "id": "e9218704",
      "metadata": {
        "ExecuteTime": {
          "end_time": "2023-08-03T14:35:59.758350398Z",
          "start_time": "2023-08-03T14:35:59.562575321Z"
        },
        "colab": {
          "base_uri": "https://localhost:8080/"
        },
        "id": "e9218704",
        "outputId": "2f7f4fb1-4f4c-4f6f-8675-890d7a147d20"
      },
      "outputs": [
        {
          "output_type": "stream",
          "name": "stdout",
          "text": [
            "Number of pixels that are out of place:  936448.0\n",
            "Percentage of pixels that are out of place:  6.765710903651505\n"
          ]
        }
      ],
      "source": [
        "#We can also do a simple substraction to check how many pixels are out of place:\n",
        "print(\"Number of pixels that are out of place: \",np.sum(abs(moving_array-fixed_array)))\n",
        "print(\"Percentage of pixels that are out of place: \",100*np.sum(abs(moving_array-fixed_array))/np.sum(moving_array+fixed_array))"
      ]
    },
    {
      "cell_type": "markdown",
      "id": "1ac37e94",
      "metadata": {
        "id": "1ac37e94"
      },
      "source": [
        "**To Register them**: we can choose a 5 editable functions:  \n",
        "1.-Transformation function.  \n",
        "2.-Specific init center.  \n",
        "3.- Metric function.  \n",
        "4.- Optimizer function.  \n",
        "5.- Shift (Real values or pixel values).  \n",
        "\n",
        "###### Possible values are:  \n",
        "-- **2D Transforms:** Euler2D. Similarity2D. ScaleTransform2D. Translation2D.  \n",
        "-- **Center Spec:** Geometry . Moments.  \n",
        "-- **Metrics:** Correlation . MatesMutualInformation. MeanSquares.  \n",
        "-- **Optimizer:** GradientDescent . RegularStepGradientDescent.  \n",
        "-- **Shift:** IndexShift . PhysicalShift\n",
        "\n",
        "###### Other configurations editable with current defaults:  \n",
        "**For TranslationTransform:** offset=\"Diff\" or \"Fix\" or \"Mov\".\n",
        "\"Diff\" is difference between centroids of moving and target. \"Fixed\" is centroid of Fixed. \"Mov\" is centroid of Moving.  \n",
        "\n",
        "**For Optimizers** : .   \n",
        "iterations_spec=300  . Maximum number of iteration for all Optimizers.  \n",
        "lr=1  Learning Rate for all Optimizers.  \n",
        "minStep=.00001  , Minimum Step for Optimizer: Regular Step Gradient Descent.  \n",
        "gradientT=1e-7  , GradientMagnitudeTolerance for Optimizer :  Regular Step Gradient Descent.  \n",
        "convWinSize=200  , Convergence Minimum Value for Optimizer: Gradient Descent.  \n",
        "convMinVal=1e-6 , Convergence Window Size for Optimizer: : Gradient Descent.  "
      ]
    },
    {
      "cell_type": "markdown",
      "id": "3fbb0898",
      "metadata": {
        "id": "3fbb0898"
      },
      "source": [
        "![Screenshot%20from%202023-09-21%2011-53-32.png](attachment:Screenshot%20from%202023-09-21%2011-53-32.png)"
      ]
    },
    {
      "cell_type": "code",
      "execution_count": 9,
      "id": "6af89250",
      "metadata": {
        "ExecuteTime": {
          "end_time": "2023-08-03T14:35:59.758600717Z",
          "start_time": "2023-08-03T14:35:59.758150847Z"
        },
        "colab": {
          "base_uri": "https://localhost:8080/"
        },
        "id": "6af89250",
        "outputId": "bd61ea9c-a426-4a5a-9ed2-e4aeb3282ac7"
      },
      "outputs": [
        {
          "output_type": "stream",
          "name": "stdout",
          "text": [
            "Initial metric value: -0.8604127768924379\n",
            "Final metric value: -0.9892952666636873\n",
            "Optimizer's stopping condition: GradientDescentOptimizerv4Template: Maximum number of iterations (80) exceeded.\n"
          ]
        }
      ],
      "source": [
        "transf_spec = \"Euler2D\" #Euler2D. Similarity2D. ScaleTransform2D. Translation2D.\n",
        "center_spec = \"Geometry\"  # Geometry or Moments\n",
        "metric_spec = \"Correlation\"  # \"Correlation\" or \"MatesMutualInformation\" or \"MeanSquares\"\n",
        "optimizer = \"GradientDescent\"  # GradientDescent\" or \"RegularStepGradientDescent\"\n",
        "shift_sepc = \"IndexShift\"  # \"PhysicalShift\" or \"IndexShift\"\n",
        "\n",
        "#Both Optimizers\n",
        "iterations_spec=80\n",
        "lr=1\n",
        "#ResgularStep Gradient\n",
        "minStep=1e-7\n",
        "gradientT=1e-8\n",
        "#Gradient Descent\n",
        "convMinVal =1e-6\n",
        "convWinSize = 200\n",
        "#Offset\n",
        "offset = \"Diff\" #Fix, Mov, Diff\n",
        "\n",
        "moved_array, evaluationMetric, final_transform = tailor_registration(fixed_array, moving_array, transf_spec,\n",
        "                                                                         center_spec, metric_spec, optimizer,\n",
        "                                                                         shift_sepc, offset, iterations_spec=iterations_spec,\n",
        "                                                                         lr=lr,minStep=minStep, gradientT=gradientT,\n",
        "                                                                         convMinVal=convMinVal,convWinSize = convWinSize)"
      ]
    },
    {
      "cell_type": "code",
      "execution_count": 10,
      "id": "607385c1",
      "metadata": {
        "colab": {
          "base_uri": "https://localhost:8080/",
          "height": 240
        },
        "id": "607385c1",
        "outputId": "16f649f5-6038-4ee0-db4d-e0a877ff995b"
      },
      "outputs": [
        {
          "output_type": "display_data",
          "data": {
            "text/plain": [
              "<Figure size 640x480 with 3 Axes>"
            ],
            "image/png": "[encoded data removed]"
          },
          "metadata": {}
        },
        {
          "output_type": "stream",
          "name": "stdout",
          "text": [
            "Number of pixels that are out of place:  134309.9\n",
            "Percentage of pixels that are out of place:  0.970370875776402\n"
          ]
        }
      ],
      "source": [
        "#Visually see the registration:\n",
        "plt.subplot(131),plt.imshow(fixed_array),plt.title('Fixed'),plt.axis('off')\n",
        "plt.subplot(132),plt.imshow(moved_array),plt.title('Moved'),plt.axis('off')\n",
        "plt.subplot(133),plt.imshow(fixed_array-moved_array),plt.title('Difference'),plt.axis('off')\n",
        "plt.show()\n",
        "\n",
        "#We can also do a simple substraction to check how many pixels are out of place:\n",
        "print(\"Number of pixels that are out of place: \",np.sum(abs(moved_array-fixed_array)))\n",
        "print(\"Percentage of pixels that are out of place: \",100*np.sum(abs(moved_array-fixed_array))/np.sum(moved_array+fixed_array))"
      ]
    },
    {
      "cell_type": "markdown",
      "id": "37b3473d",
      "metadata": {
        "id": "37b3473d"
      },
      "source": [
        "\n",
        "# Assignment\n",
        "\n",
        "As you have probably noticed, the visualization image and percent of pipxels out of place have improved a lot. This is because we have identified that the issue was with a rotation and therefore used an Euler2D Transform. **The task you have in this assignment is to register all the squares, by analizyng what kind of disruption does the moving image has compared to the fixed image. Once select the proper functions and parameters to perform the best possible registration.** For this application, a good registration usually has less than 5% of pixels out of place.\n",
        "\n",
        "To complete the assignment, you have to write a *brief* report. Make sure to document:\n",
        "\n",
        "1.   Which functions you use for each square. Include the parameters.\n",
        "2.   What are the percentages of pixels out of place before and after registration\n",
        "3.   Visualization on how the Square was before and after the registration.\n",
        "\n",
        "The report can be brief, just write what you did and why. An introduction, references, etc. are not necessary. You can copy/screenshot all graphs/images from this notebook to illustrate your findings.\n",
        "\n",
        "\n",
        "---\n",
        "\n",
        "Parameter interpretation**\n",
        "\n",
        "The parameters you can change are:\n",
        "\n",
        "*   Number of Iterations\n",
        "*   Learning rate\n",
        "*   For Regular Step Gradient - Minimum Step (minStep), Gradient Tolerance (gradientT)\n",
        "*   For Gradient Descent - Convergence Minimum Value (convMinVal), Convergence WindowSize (convWinSize)\n",
        "*   Offset - For Translation Transforms Only - The offset can be the position of the either the fixed or moving image or the difference between its positions."
      ]
    },
    {
      "cell_type": "markdown",
      "source": [
        "### Have some extra time and would like to test these methods on *medical* data?\n",
        "Click the link to go to a new notebook and test this registration methods on real CT and CBCT patient data\n",
        "\n",
        "Link: https://colab.research.google.com/drive/1hobFy8bYZSIBoghlUisxRBd8S4W3IAOG?authuser=1\n"
      ],
      "metadata": {
        "id": "mONGEZG-meKR"
      },
      "id": "mONGEZG-meKR"
    }
  ],
  "metadata": {
    "kernelspec": {
      "display_name": "Python 3 (ipykernel)",
      "language": "python",
      "name": "python3"
    },
    "language_info": {
      "codemirror_mode": {
        "name": "ipython",
        "version": 3
      },
      "file_extension": ".py",
      "mimetype": "text/x-python",
      "name": "python",
      "nbconvert_exporter": "python",
      "pygments_lexer": "ipython3",
      "version": "3.10.12"
    },
    "colab": {
      "provenance": []
    }
  },
  "nbformat": 4,
  "nbformat_minor": 5
}