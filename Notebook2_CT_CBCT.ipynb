{
  "cells": [
    {
      "cell_type": "markdown",
      "id": "bf0b3793",
      "metadata": {
        "id": "bf0b3793"
      },
      "source": [
        "# Image Registration Notebook\n",
        "For 3D CT and CBCT images\n",
        "\n",
        "Sample Dataset available on: https://drive.google.com/file/d/1tSSTTLbH8j_svnmeALkq4FzwX1gDl6cT/view?usp=drive_link\n",
        "\n",
        "Credits :https://grand-challenge.org/forums/forum/learn2reg-registration-challenge-449/topic/l2r23-data-release-1486/"
      ]
    },
    {
      "cell_type": "code",
      "execution_count": 1,
      "id": "31e21733",
      "metadata": {
        "ExecuteTime": {
          "end_time": "2023-08-03T14:35:59.053706032Z",
          "start_time": "2023-08-03T14:35:58.984965687Z"
        },
        "colab": {
          "base_uri": "https://localhost:8080/"
        },
        "id": "31e21733",
        "outputId": "c8a41497-bc45-43f4-db76-3ec26a04be5f"
      },
      "outputs": [
        {
          "output_type": "stream",
          "name": "stdout",
          "text": [
            "Collecting SimpleITK\n",
            "  Downloading SimpleITK-2.3.0-cp310-cp310-manylinux_2_17_x86_64.manylinux2014_x86_64.whl (52.6 MB)\n",
            "\u001b[2K     \u001b[90m━━━━━━━━━━━━━━━━━━━━━━━━━━━━━━━━━━━━━━━━\u001b[0m \u001b[32m52.6/52.6 MB\u001b[0m \u001b[31m18.3 MB/s\u001b[0m eta \u001b[36m0:00:00\u001b[0m\n",
            "\u001b[?25hInstalling collected packages: SimpleITK\n",
            "Successfully installed SimpleITK-2.3.0\n"
          ]
        }
      ],
      "source": [
        "!pip install SimpleITK\n",
        "\n",
        "import SimpleITK as sitk\n",
        "import os\n",
        "import matplotlib.pyplot as plt\n",
        "import numpy as np"
      ]
    },
    {
      "cell_type": "code",
      "execution_count": null,
      "id": "91b196be",
      "metadata": {
        "ExecuteTime": {
          "end_time": "2023-08-03T14:35:59.054270109Z",
          "start_time": "2023-08-03T14:35:59.026104580Z"
        },
        "id": "91b196be"
      },
      "outputs": [],
      "source": [
        "from google.colab import drive\n",
        "drive.mount('/gdrive')"
      ]
    },
    {
      "cell_type": "markdown",
      "source": [
        "**Run the following definitions cell. no need to edit it, during the assignment**"
      ],
      "metadata": {
        "id": "xtrgOSu2qngB"
      },
      "id": "xtrgOSu2qngB"
    },
    {
      "cell_type": "code",
      "source": [
        "# @title\n",
        "#Run the following cell, no need to edit it, during the assignment\n",
        "#author Luis de la O\n",
        "\n",
        "import SimpleITK as sitk\n",
        "import numpy as np\n",
        "import os\n",
        "import math\n",
        "from skimage.measure import regionprops,label\n",
        "from skimage import filters\n",
        "\n",
        "\n",
        "def BlurringFilter(image,kernel_val=3,filter_val=1.0):\n",
        "    kernel_size = (kernel_val, kernel_val, kernel_val)\n",
        "    mean_filter = sitk.SmoothingRecursiveGaussianImageFilter()\n",
        "    mean_filter.SetSigma(filter_val)\n",
        "    smoothed_image = mean_filter.Execute(image)\n",
        "\n",
        "    return smoothed_image\n",
        "\n",
        "def normalizeSimpleITK(image,tresh_min,tresh_max):\n",
        "    #image = sitk.Threshold(image, lower=tresh_min, upper=tresh_max)\n",
        "    image_np = sitk.GetArrayFromImage(image)\n",
        "    image_normalized = (image_np - (-1024)) / (600 - (-1024))\n",
        "    image_normalized[image_normalized<=0]=0\n",
        "    image_normalized[image_normalized>1]=1\n",
        "\n",
        "    return image_normalized\n",
        "\n",
        "\n",
        "def getCenter(image):\n",
        "    threshold_value = filters.threshold_otsu(image)\n",
        "    labeled_foreground = (image > threshold_value).astype(int)\n",
        "    properties = regionprops(labeled_foreground, image)\n",
        "    center_of_mass = properties[0].centroid\n",
        "    weighted_center_of_mass = properties[0].weighted_centroid\n",
        "    return center_of_mass,weighted_center_of_mass\n",
        "\n",
        "\n",
        "# Functions 2D Translation2D Euler2D Similarity2D ScaleTransform2D\n",
        "# Functions 3D Translation3D Euler3D VersorRigid3D Similarity3D Scale3D\n",
        "def transformation_fun_select(arg,image):\n",
        "    if arg == \"Euler2D\":\n",
        "        return sitk.Euler2DTransform()\n",
        "    if arg == \"Similarity2D\":\n",
        "        return sitk.Similarity2DTransform()\n",
        "    if arg == \"ScaleTransform2D\":\n",
        "        return sitk.ScaleTransform(2)\n",
        "    if arg == \"Translation3D\":\n",
        "        return sitk.TranslationTransform(3)\n",
        "    if arg == \"Euler3D\":\n",
        "        return sitk.Euler3DTransform()\n",
        "    if arg == \"Similarity3D\":\n",
        "        return sitk.Similarity3DTransform()\n",
        "    if arg == \"VersorRigid3D\":\n",
        "        return sitk.VersorRigid3DTransform()\n",
        "    if arg == \"Scale3D\":\n",
        "        return sitk.ScaleVersor3DTransform()\n",
        "\n",
        "\n",
        "def tailor_registration(fixed_array,moving_array,transf_spec,center_spec,metric_spec,gradient_spec,shift_sepc,offset=\"Diff\",iterations_spec=300,lr=1,minStep=.00001,gradientT=1e-7,convWinSize=10,convMinVal=1e-7,plot_bool=False):\n",
        "    fixed_image = sitk.GetImageFromArray(fixed_array)\n",
        "    moving_image = sitk.GetImageFromArray(moving_array)\n",
        "    fixed_image = sitk.Cast(fixed_image, sitk.sitkFloat32)\n",
        "    moving_image = sitk.Cast(moving_image, sitk.sitkFloat32)\n",
        "\n",
        "    transf_fun = transformation_fun_select(transf_spec,moving_array)\n",
        "    if center_spec == \"Geometry\":\n",
        "        center_fun = sitk.CenteredTransformInitializerFilter.GEOMETRY\n",
        "    elif center_spec == \"Moments\":\n",
        "        center_fun = sitk.CenteredTransformInitializerFilter.MOMENTS\n",
        "    else:\n",
        "        center_fun = sitk.CenteredTransformInitializerFilter.GetName()\n",
        "        print(center_fun)\n",
        "    #INITIALIZE\n",
        "    registration_method = sitk.ImageRegistrationMethod()\n",
        "    if transf_spec != \"Translation2D\":\n",
        "        initial_transform = sitk.CenteredTransformInitializer(fixed_image, moving_image, transf_fun, center_fun)\n",
        "        registration_method.SetInitialTransform(initial_transform, inPlace=False)\n",
        "    else:\n",
        "        #For 1D translation w_center of fixed array worked as offset\n",
        "        if offset == \"Diff\":\n",
        "            centroid_fix, w_center_fix = getCenter(fixed_array)\n",
        "            centr_mov, w_center_mov = getCenter(moving_array)\n",
        "            centroid_difference = (w_center_fix[0] - w_center_mov[0], w_center_fix[1] - w_center_mov[1])\n",
        "        elif offset == \"Fix\":\n",
        "            centroid_fix, w_center_fix = getCenter(fixed_array)\n",
        "            centroid_difference = w_center_fix\n",
        "        elif offset == \"Mov\":\n",
        "            centroid_fix, w_center_fix = getCenter(moving_array)\n",
        "            centroid_difference = w_center_fix\n",
        "        else:\n",
        "            print(\"No Offset Selected\")\n",
        "\n",
        "        translation_transform = sitk.TranslationTransform(2,centroid_difference)\n",
        "        rigid_transform = sitk.Euler2DTransform()\n",
        "        rigid_transform.SetTranslation(translation_transform.GetOffset())\n",
        "        registration_method.SetInitialTransform(rigid_transform, inPlace=False)\n",
        "\n",
        "    #METRICS\n",
        "    if metric_spec == \"Correlation\":\n",
        "        registration_method.SetMetricAsCorrelation()\n",
        "    elif metric_spec == \"MatesMutualInformation\":\n",
        "        registration_method.SetMetricAsMattesMutualInformation(numberOfHistogramBins=100)\n",
        "    elif metric_spec == \"MeanSquares\":\n",
        "        registration_method.SetMetricAsMeanSquares()\n",
        "    else:\n",
        "        print(\"Error: No metric selected\")\n",
        "        exit(1)\n",
        "    registration_method.SetMetricSamplingStrategy(registration_method.RANDOM)\n",
        "    registration_method.SetMetricSamplingPercentage(0.2)\n",
        "\n",
        "    #OPTIMIZER\n",
        "    if gradient_spec == \"RegularStepGradientDescent\":\n",
        "        registration_method.SetOptimizerAsRegularStepGradientDescent(learningRate=lr, numberOfIterations=iterations_spec,minStep=minStep, gradientMagnitudeTolerance=gradientT)\n",
        "    elif gradient_spec == \"GradientDescent\":\n",
        "        registration_method.SetOptimizerAsGradientDescent(learningRate=lr, numberOfIterations=iterations_spec,convergenceMinimumValue=convMinVal,convergenceWindowSize=convWinSize)\n",
        "    else:\n",
        "        print(\"Error: No metric selected\")\n",
        "        exit(1)\n",
        "\n",
        "    if shift_sepc == \"PhysicalShift\":\n",
        "        registration_method.SetOptimizerScalesFromPhysicalShift()\n",
        "    elif shift_sepc == \"IndexShift\":\n",
        "        registration_method.SetOptimizerScalesFromIndexShift()\n",
        "    else:\n",
        "        print(\"Error: No metric selected\")\n",
        "        exit(1)\n",
        "\n",
        "    #Registration\n",
        "    final_transform = registration_method.Execute(fixed_image, moving_image)\n",
        "    evaluationMetric = registration_method.GetMetricValue()\n",
        "    initial_metric_value = registration_method.MetricEvaluate(fixed_image, moving_image)\n",
        "    print(f\"Initial metric value: {initial_metric_value}\")\n",
        "    print(f\"Final metric value: {evaluationMetric}\")\n",
        "    print(f\"Optimizer's stopping condition: {registration_method.GetOptimizerStopConditionDescription()}\")\n",
        "    moved_image = sitk.Resample(moving_image, fixed_image, final_transform, sitk.sitkLinear, 0.0, moving_image.GetPixelID())\n",
        "    moved_array = sitk.GetArrayFromImage(moved_image)\n",
        "\n",
        "    return moved_array,evaluationMetric,final_transform"
      ],
      "metadata": {
        "cellView": "form",
        "id": "3NCFozP8oXAp"
      },
      "id": "3NCFozP8oXAp",
      "execution_count": null,
      "outputs": []
    },
    {
      "cell_type": "markdown",
      "id": "a613d1b1",
      "metadata": {
        "id": "a613d1b1"
      },
      "source": [
        "Check Sizes\n",
        "Check Orientation\n",
        "Check Pixel Range Values"
      ]
    },
    {
      "cell_type": "code",
      "execution_count": null,
      "id": "dbee907a",
      "metadata": {
        "ExecuteTime": {
          "end_time": "2023-08-03T14:35:59.518875870Z",
          "start_time": "2023-08-03T14:35:59.026206613Z"
        },
        "scrolled": false,
        "id": "dbee907a"
      },
      "outputs": [],
      "source": [
        "root = \"/gdrive/My Drive/ImageRegistration/RegistrationPart2/SampleDataset/\"\n",
        "name = \"ThoraxCBCT_0000\"\n",
        "sliceNum=90\n",
        "\n",
        "ct_path = root+name+\"_0000.nii.gz\"\n",
        "fixed_sitk = sitk.ReadImage(ct_path, sitk.sitkFloat32)\n",
        "fixed_array = normalizeSimpleITK(fixed_sitk,-1024,600)\n",
        "plt.subplot(1,3,1),plt.imshow(fixed_array[sliceNum,:,:],cmap=\"gray\"),plt.axis('off')\n",
        "plt.title(\"CT - Fixed Image\")\n",
        "\n",
        "cbct_path= root+name+\"_0001.nii.gz\"\n",
        "moving_sitk = sitk.ReadImage(cbct_path, sitk.sitkFloat32)\n",
        "moving_array = normalizeSimpleITK(moving_sitk,-1024,600)\n",
        "plt.subplot(1,3,2),plt.imshow(moving_array[sliceNum,:,:],cmap=\"gray\"),plt.axis('off')\n",
        "plt.title(\"CBCT - Moving Image\")\n",
        "\n",
        "plt.subplot(1,3,3),plt.imshow(fixed_array[sliceNum,:,:]-moving_array[sliceNum,:,:],cmap=\"gray\"),plt.axis('off')\n",
        "plt.title(\"Difference\")\n",
        "plt.tight_layout()\n",
        "plt.show()\n",
        "\n",
        "print(\"Normalized CT Values: \",fixed_array.max(),fixed_array.min())\n",
        "print(\"Normalized CBCT Values: \",moving_array.max(),moving_array.min())"
      ]
    },
    {
      "cell_type": "code",
      "execution_count": null,
      "id": "3b47d958",
      "metadata": {
        "ExecuteTime": {
          "end_time": "2023-08-03T14:35:59.562225054Z",
          "start_time": "2023-08-03T14:35:59.521798820Z"
        },
        "id": "3b47d958"
      },
      "outputs": [],
      "source": [
        "#For a faster registration, we can blurr the image if necessary\n",
        "fixedBlurred_image = BlurringFilter(fixed_sitk,kernel_val=15,filter_val=2)\n",
        "movingBlurred_image = BlurringFilter(moving_sitk,kernel_val=15,filter_val=2)\n",
        "#To Normalized filtered image\n",
        "fixed_array_blurred = normalizeSimpleITK(fixedBlurred_image,-1024,600)\n",
        "moving_array_blurred = normalizeSimpleITK(movingBlurred_image,-1024,600)\n",
        "\n",
        "fixed_array_unfiltered = normalizeSimpleITK(fixed_sitk,-1024,600)\n",
        "moving_array_unfiltered = normalizeSimpleITK(moving_sitk,-1024,600)\n",
        "\n",
        "#Visualize both of your images, notice the difference between them\n",
        "print(\"Image dimensions: Fixed Image: \",fixed_array_unfiltered.shape,\" Moving Image:\", fixed_array_unfiltered.shape)\n",
        "plt.subplot(231),plt.imshow(fixed_array_unfiltered[140,:,:]),plt.axis('off'),plt.title(\"Fixed Unfiltered\")\n",
        "plt.subplot(232),plt.imshow(fixed_array_blurred[140,:,:]),plt.axis('off'),plt.title(\"Fixed Filtered\")\n",
        "plt.subplot(233),plt.imshow(moving_array_unfiltered[140,:,:]),plt.axis('off'),plt.title(\"Moving Unfiltered\")\n",
        "plt.subplot(234),plt.imshow(moving_array_blurred[140,:,:]),plt.axis('off'),plt.title(\"Moving Filtered\")\n",
        "plt.subplot(235),plt.imshow(fixed_array_unfiltered[140,:,:]-moving_array_unfiltered[140,:,:]),plt.axis('off'),plt.title(\"Unfiltered Difference\")\n",
        "plt.subplot(236),plt.imshow(fixed_array_blurred[140,:,:]-moving_array_blurred[140,:,:]),plt.axis('off'),plt.title(\"Filtered Difference\")\n",
        "plt.tight_layout()\n",
        "plt.show()\n",
        "\n",
        "#We can also do a simple substraction to check how many pixels are out of place:\n",
        "print(\"% out of place, Filtered: \",100*np.sum(abs(moving_array_blurred-fixed_array_blurred))/np.sum(moving_array_blurred+fixed_array_blurred))\n",
        "print(\"% out of place, Unfiltered: \",100*np.sum(abs(moving_array_unfiltered-fixed_array_unfiltered))/np.sum(moving_array_unfiltered+fixed_array_unfiltered))"
      ]
    },
    {
      "cell_type": "markdown",
      "id": "1ac37e94",
      "metadata": {
        "id": "1ac37e94"
      },
      "source": [
        "### Possible Transform values are:  \n",
        "-- **3D Transforms:** Similarity3D\" \"VersorRigid3D\" \"Scale3D\" \"Euler3D\" \"Translation3D\".\n",
        "-- **Center Spec:** Geometry . Moments.  \n",
        "-- **Metrics:** Correlation . MatesMutualInformation. MeanSquares.  \n",
        "-- **Optimizer:** GradientDescent . RegularStepGradientDescent.  \n",
        "-- **Shift:** IndexShift . PhysicalShift\n",
        "\n",
        "### Other configurations editable with current defaults:  \n",
        "**For TranslationTransform:** offset=\"Diff\" or \"Fix\" or \"Mov\".\n",
        "\"Diff\" is difference between centroids of moving and target. \"Fixed\" is centroid of Fixed. \"Mov\" is centroid of Moving.  \n",
        "\n",
        "**For Optimizers** : .   \n",
        "iterations_spec=300  . Maximum number of iteration for all Optimizers.  \n",
        "lr=1  Learning Rate for all Optimizers.  \n",
        "minStep=.00001  , Minimum Step for Optimizer: Regular Step Gradient Descent.  \n",
        "gradientT=1e-7  , GradientMagnitudeTolerance for Optimizer :  Regular Step Gradient Descent.  \n",
        "convWinSize=10  , Convergence Minimum Value for Optimizer: Gradient Descent.  \n",
        "convMinVal=1e-7 , Convergence Window Size for Optimizer: : Gradient Descent.  "
      ]
    },
    {
      "cell_type": "code",
      "execution_count": null,
      "id": "6af89250",
      "metadata": {
        "ExecuteTime": {
          "end_time": "2023-08-03T14:35:59.758600717Z",
          "start_time": "2023-08-03T14:35:59.758150847Z"
        },
        "id": "6af89250"
      },
      "outputs": [],
      "source": [
        "transf_spec = \"Scale3D\" #\"Similarity3D\" \"VersorRigid3D\" \"Scale3D\" \"Euler3D\" \"Translation3D\"\n",
        "center_spec = \"Geometry\"  # Geometry or Moments\n",
        "metric_spec = \"Correlation\"  # \"Correlation\" or \"MatesMutualInformation\" or \"MeanSquares\"\n",
        "optimizer = \"RegularStepGradientDescent\"  # GradientDescent\" or \"RegularStepGradientDescent\"\n",
        "shift_sepc = \"PhysicalShift\"  # \"PhysicalShift\" or \"IndexShift\"\n",
        "\n",
        "fixed_array=fixed_array_blurred\n",
        "moving_array = moving_array_blurred\n",
        "\n",
        "#Both Optimizers\n",
        "iterations_spec=300\n",
        "lr=1\n",
        "#ResgularStep Gradient\n",
        "minStep=0.0001\n",
        "gradientT=1e-8\n",
        "#Gradient Descent\n",
        "convMinVal =1\n",
        "convWinSize = int(1e-18)\n",
        "\n",
        "#Offset\n",
        "offset = \"Diff\" #Fix, Mov, Diff\n",
        "\n",
        "\n",
        "moved_array, evaluationMetric, final_transform = tailor_registration(fixed_array, moving_array, transf_spec,\n",
        "                                                                         center_spec, metric_spec, optimizer,\n",
        "                                                                         shift_sepc, offset, iterations_spec=iterations_spec,\n",
        "                                                                         lr=lr,minStep=minStep, gradientT=gradientT,\n",
        "                                                                         convMinVal=convMinVal,convWinSize = convWinSize)"
      ]
    },
    {
      "cell_type": "code",
      "execution_count": null,
      "id": "607385c1",
      "metadata": {
        "id": "607385c1"
      },
      "outputs": [],
      "source": [
        "#Visually see the registration:\n",
        "print(\"Image dimensions: Image: \",fixed_array.shape,\" Image 2:\", moved_array.shape)\n",
        "plt.subplot(221),plt.imshow(fixed_array[150,:,:]),plt.title(\"Target\"),plt.axis('off')\n",
        "plt.subplot(222),plt.imshow(moving_array[150,:,:]),plt.title(\"Moving\"),plt.axis('off')\n",
        "plt.subplot(223),plt.imshow(fixed_array[150,:,:]-moving_array[150,:,:]),plt.title(\"Before Registration\"),plt.axis('off')\n",
        "plt.subplot(224),plt.imshow(fixed_array[150,:,:]-moved_array[150,:,:]),plt.title(\"After Registration\"),plt.axis('off')\n",
        "plt.show()"
      ]
    },
    {
      "cell_type": "markdown",
      "id": "06c10d80",
      "metadata": {
        "id": "06c10d80"
      },
      "source": [
        "NOT BLURRED.\n",
        "\n",
        "Initial metric value: -0.45744104476700714.\n",
        "\n",
        "Final metric value: -0.7248766683264387.\n",
        "\n",
        "BLURRED.\n",
        "\n",
        "Initial metric value: -0.5067674241674248.\n",
        "\n",
        "Final metric value: -0.7981090539856124.\n"
      ]
    },
    {
      "cell_type": "code",
      "execution_count": null,
      "id": "e9218704",
      "metadata": {
        "ExecuteTime": {
          "end_time": "2023-08-03T14:35:59.758350398Z",
          "start_time": "2023-08-03T14:35:59.562575321Z"
        },
        "id": "e9218704"
      },
      "outputs": [],
      "source": []
    },
    {
      "cell_type": "raw",
      "id": "044ab5e8",
      "metadata": {
        "id": "044ab5e8"
      },
      "source": []
    }
  ],
  "metadata": {
    "kernelspec": {
      "display_name": "Python 3",
      "name": "python3"
    },
    "language_info": {
      "codemirror_mode": {
        "name": "ipython",
        "version": 3
      },
      "file_extension": ".py",
      "mimetype": "text/x-python",
      "name": "python",
      "nbconvert_exporter": "python",
      "pygments_lexer": "ipython3",
      "version": "3.10.12"
    },
    "colab": {
      "provenance": [],
      "gpuType": "T4"
    },
    "accelerator": "GPU"
  },
  "nbformat": 4,
  "nbformat_minor": 5
}