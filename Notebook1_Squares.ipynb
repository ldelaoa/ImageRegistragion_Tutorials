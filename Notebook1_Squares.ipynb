{
 "cells": [
  {
   "cell_type": "code",
   "execution_count": 1,
   "id": "31e21733",
   "metadata": {
    "ExecuteTime": {
     "end_time": "2023-08-03T14:35:59.053706032Z",
     "start_time": "2023-08-03T14:35:58.984965687Z"
    }
   },
   "outputs": [],
   "source": [
    "import SimpleITK as sitk\n",
    "import os\n",
    "import matplotlib.pyplot as plt\n",
    "import numpy as np\n",
    "from rigid_registration import tailor_registration"
   ]
  },
  {
   "cell_type": "code",
   "execution_count": 2,
   "id": "91b196be",
   "metadata": {
    "ExecuteTime": {
     "end_time": "2023-08-03T14:35:59.054270109Z",
     "start_time": "2023-08-03T14:35:59.026104580Z"
    }
   },
   "outputs": [
    {
     "name": "stdout",
     "output_type": "stream",
     "text": [
      "SimpleITK Version: SimpleITK Version: 2.2.1 (ITK 5.3)\n",
      "Compiled: Dec  2 2022 12:24:46\n",
      "\n"
     ]
    }
   ],
   "source": [
    "print(\"SimpleITK Version:\", sitk.Version())"
   ]
  },
  {
   "cell_type": "code",
   "execution_count": 3,
   "id": "dbee907a",
   "metadata": {
    "ExecuteTime": {
     "end_time": "2023-08-03T14:35:59.518875870Z",
     "start_time": "2023-08-03T14:35:59.026206613Z"
    }
   },
   "outputs": [
    {
     "data": {
      "image/png": "[encoded data removed]",
      "text/plain": [
       "<Figure size 640x480 with 9 Axes>"
      ]
     },
     "metadata": {},
     "output_type": "display_data"
    },
    {
     "name": "stdout",
     "output_type": "stream",
     "text": [
      "Sq1:Fixed image, Sq2:Translation 2D, Sq3:Isometric scaling, Sq4:Rotation, Sq5:Translation 1D\n",
      "Sq6:Tanslation1D + Rotation, Sq7:Translation 2D + Rotation, Sq8:scaling +Rotation, Sq9:Rotation + Scaling + Translation\n"
     ]
    }
   ],
   "source": [
    "root = \"/home/umcg/Desktop/Teaching/ImageRegistration/\"\n",
    "sqs = [\"Square1.jpg\",\"Square2.jpg\",\"Square3.jpg\",\"Square4.jpg\",\"Square5.jpg\",\"Square6.jpg\",\"Square7.jpg\",\"Square8.jpg\",\"Square9.jpg\"]\n",
    "for i in range(len(sqs)):\n",
    "    image_sitk = sitk.ReadImage(sqs[i], sitk.sitkFloat32)\n",
    "    image_array = sitk.GetArrayFromImage(image_sitk)\n",
    "    plt.subplot(1,9,i+1),plt.imshow(image_array),plt.axis('off')\n",
    "    plt.title(i+1)\n",
    "    \n",
    "plt.tight_layout()\n",
    "plt.show()\n",
    "    \n",
    "print(\"Sq1:Fixed image, Sq2:Translation 2D, Sq3:Isometric scaling, Sq4:Rotation, Sq5:Translation 1D\")\n",
    "print(\"Sq6:Tanslation1D + Rotation, Sq7:Translation 2D + Rotation, Sq8:scaling +Rotation, Sq9:Rotation + Scaling + Translation\")"
   ]
  },
  {
   "cell_type": "code",
   "execution_count": 9,
   "id": "3b47d958",
   "metadata": {
    "ExecuteTime": {
     "end_time": "2023-08-03T14:35:59.562225054Z",
     "start_time": "2023-08-03T14:35:59.521798820Z"
    }
   },
   "outputs": [],
   "source": [
    "fixed_image_path = \"Square1.jpg\"\n",
    "moving_image_path = \"Square2.jpg\"\n",
    "\n",
    "#Load\n",
    "fixed_image = sitk.ReadImage(fixed_image_path, sitk.sitkFloat32)\n",
    "moving_image = sitk.ReadImage(moving_image_path, sitk.sitkFloat32)\n",
    "fixed_array = sitk.GetArrayFromImage(fixed_image)\n",
    "moving_array = sitk.GetArrayFromImage(moving_image)"
   ]
  },
  {
   "cell_type": "code",
   "execution_count": 10,
   "id": "e9218704",
   "metadata": {
    "ExecuteTime": {
     "end_time": "2023-08-03T14:35:59.758350398Z",
     "start_time": "2023-08-03T14:35:59.562575321Z"
    }
   },
   "outputs": [
    {
     "name": "stdout",
     "output_type": "stream",
     "text": [
      "Image dimensions: Image:  (512, 512)  Image 2: (512, 512)\n"
     ]
    },
    {
     "data": {
      "image/png": "[encoded data removed]",
      "text/plain": [
       "<Figure size 640x480 with 2 Axes>"
      ]
     },
     "metadata": {},
     "output_type": "display_data"
    }
   ],
   "source": [
    "print(\"Image dimensions: Image: \",fixed_array.shape,\" Image 2:\", moving_array.shape)\n",
    "plt.subplot(121),plt.imshow(fixed_array)\n",
    "plt.subplot(122),plt.imshow(moving_array)\n",
    "plt.show()"
   ]
  },
  {
   "cell_type": "code",
   "execution_count": 11,
   "id": "6af89250",
   "metadata": {
    "ExecuteTime": {
     "end_time": "2023-08-03T14:35:59.758600717Z",
     "start_time": "2023-08-03T14:35:59.758150847Z"
    }
   },
   "outputs": [
    {
     "name": "stdout",
     "output_type": "stream",
     "text": [
      "Final metric value: 0.047186766297459375\n",
      "Optimizer's stopping condition: RegularStepGradientDescentOptimizerv4: Maximum number of iterations (400) exceeded.\n"
     ]
    }
   ],
   "source": [
    "transf_spec = \"Translation2D\"\n",
    "center_spec = \"Geometry\"  # Geometry or Moments\n",
    "metric_spec = \"MeanSquares\"  # \"Correlation\" or \"MatesMutualInformation\" or \"MeanSquares\"\n",
    "optimizer = \"RegularStepGradientDescent\"  # GradientDescent\" or \"RegularStepGradientDescent\"\n",
    "shift_sepc = \"IndexShift\"  # \"PhysicalShift\" or \"IndexShift\"\n",
    "\n",
    "#Both Optimizers\n",
    "iterations_spec=500\n",
    "lr=1\n",
    "#ResgularStep Gradient \n",
    "minStep=1e-4\n",
    "gradientT=1e-7\n",
    "#Gradient Descent\n",
    "convMinVal =10\n",
    "convWinSize = 1e-7\n",
    "\n",
    "#Offset\n",
    "offset = \"Diff\" #Fix, Mov, Diff\n",
    "\n",
    "moved_array, evaluationMetric, final_transform = tailor_registration(fixed_array, moving_array, transf_spec,\n",
    "                                                                         center_spec, metric_spec, optimizer,\n",
    "                                                                         shift_sepc, offset, iterations_spec=400,\n",
    "                                                                         minStep=.00001, gradientT=1e-7)"
   ]
  },
  {
   "cell_type": "code",
   "execution_count": 12,
   "id": "b5a04d03",
   "metadata": {},
   "outputs": [
    {
     "name": "stdout",
     "output_type": "stream",
     "text": [
      "Image dimensions: Image:  (512, 512)  Image 2: (512, 512)\n"
     ]
    },
    {
     "data": {
      "image/png": "[encoded data removed]",
      "text/plain": [
       "<Figure size 640x480 with 2 Axes>"
      ]
     },
     "metadata": {},
     "output_type": "display_data"
    }
   ],
   "source": [
    "print(\"Image dimensions: Image: \",fixed_array.shape,\" Image 2:\", moved_array.shape)\n",
    "plt.subplot(121),plt.imshow(fixed_array)\n",
    "plt.subplot(122),plt.imshow(moved_array)\n",
    "plt.show()"
   ]
  },
  {
   "cell_type": "code",
   "execution_count": null,
   "id": "698ade2f",
   "metadata": {},
   "outputs": [],
   "source": []
  },
  {
   "cell_type": "code",
   "execution_count": null,
   "id": "d666f207",
   "metadata": {},
   "outputs": [],
   "source": []
  },
  {
   "cell_type": "code",
   "execution_count": 8,
   "id": "7001e66e",
   "metadata": {},
   "outputs": [
    {
     "name": "stdout",
     "output_type": "stream",
     "text": [
      "inf\n",
      "1.0\n"
     ]
    },
    {
     "name": "stderr",
     "output_type": "stream",
     "text": [
      "/tmp/ipykernel_425986/1566898885.py:1: RuntimeWarning: divide by zero encountered in scalar divide\n",
      "  print(np.sum(fixed_array)/np.sum(moved_array))\n"
     ]
    }
   ],
   "source": [
    "print(np.sum(fixed_array)/np.sum(moved_array))\n",
    "\n",
    "print(np.sum(fixed_array)/np.sum(moving_array))"
   ]
  },
  {
   "cell_type": "code",
   "execution_count": null,
   "id": "02cf6ee3",
   "metadata": {},
   "outputs": [],
   "source": []
  },
  {
   "cell_type": "code",
   "execution_count": null,
   "id": "b2dc1b63",
   "metadata": {},
   "outputs": [],
   "source": []
  },
  {
   "cell_type": "code",
   "execution_count": null,
   "id": "3e407331",
   "metadata": {},
   "outputs": [],
   "source": []
  }
 ],
 "metadata": {
  "kernelspec": {
   "display_name": "Python 3 (ipykernel)",
   "language": "python",
   "name": "python3"
  },
  "language_info": {
   "codemirror_mode": {
    "name": "ipython",
    "version": 3
   },
   "file_extension": ".py",
   "mimetype": "text/x-python",
   "name": "python",
   "nbconvert_exporter": "python",
   "pygments_lexer": "ipython3",
   "version": "3.10.12"
  }
 },
 "nbformat": 4,
 "nbformat_minor": 5
}
