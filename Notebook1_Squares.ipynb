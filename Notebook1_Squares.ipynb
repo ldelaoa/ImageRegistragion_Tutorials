{
 "cells": [
  {
   "cell_type": "code",
   "execution_count": 9,
   "id": "31e21733",
   "metadata": {},
   "outputs": [],
   "source": [
    "import SimpleITK as sitk\n",
    "import os\n",
    "import matplotlib.pyplot as plt\n",
    "import numpy as np"
   ]
  },
  {
   "cell_type": "code",
   "execution_count": 16,
   "id": "3b47d958",
   "metadata": {},
   "outputs": [],
   "source": [
    "fixed_image_path = \"/home/umcg/Desktop/Teaching/ImageRegistration/Square1.jpg\"\n",
    "moving_image_path = \"/home/umcg/Desktop/Teaching/ImageRegistration/Square2.jpg\""
   ]
  },
  {
   "cell_type": "code",
   "execution_count": 17,
   "id": "f1811a5e",
   "metadata": {},
   "outputs": [],
   "source": [
    "#Load\n",
    "fixed_image = sitk.ReadImage(fixed_image_path, sitk.sitkFloat32)\n",
    "moving_image = sitk.ReadImage(moving_image_path, sitk.sitkFloat32)\n",
    "\n",
    "fixed_array = sitk.GetArrayFromImage(fixed_image)\n",
    "moving_array = sitk.GetArrayFromImage(moving_image)"
   ]
  },
  {
   "cell_type": "code",
   "execution_count": 18,
   "id": "e9218704",
   "metadata": {},
   "outputs": [
    {
     "name": "stdout",
     "output_type": "stream",
     "text": [
      "Image dimensions: Image:  (512, 512)  Image 2: (512, 512)\n"
     ]
    },
    {
     "data": {
      "image/png": "[encoded data removed]",
      "text/plain": [
       "<Figure size 640x480 with 2 Axes>"
      ]
     },
     "metadata": {},
     "output_type": "display_data"
    }
   ],
   "source": [
    "print(\"Image dimensions: Image: \",fixed_array.shape,\" Image 2:\", moving_array.shape)\n",
    "plt.subplot(121),plt.imshow(fixed_array)\n",
    "plt.subplot(122),plt.imshow(moving_array)\n",
    "plt.show()"
   ]
  },
  {
   "cell_type": "code",
   "execution_count": 21,
   "id": "d89a182c",
   "metadata": {},
   "outputs": [
    {
     "name": "stdout",
     "output_type": "stream",
     "text": [
      "Final metric value : -0.624797401464203\n",
      "Optimizer's stopping condition : RegularStepGradientDescentOptimizerv4: Gradient magnitude tolerance met after 27 iterations. Gradient magnitude (4.61128e-07) is less than gradient magnitude tolerance (1e-06).\n",
      "Iteration : 28\n"
     ]
    }
   ],
   "source": [
    "#Initial Transform\n",
    "initial_transform = sitk.CenteredTransformInitializer(fixed_image, \n",
    "                                                      moving_image, \n",
    "                                                      sitk.Similarity2DTransform(),\n",
    "                                                      sitk.CenteredTransformInitializerFilter.MOMENTS\n",
    ")\n",
    "\n",
    "registration_method = sitk.ImageRegistrationMethod()\n",
    "\n",
    "#METRICS\n",
    "#registration_method.SetMetricAsCorrelation()\n",
    "registration_method.SetMetricAsMattesMutualInformation(numberOfHistogramBins=100)\n",
    "#registration_method.SetMetricAsMeanSquares()\n",
    "registration_method.SetMetricSamplingStrategy(registration_method.RANDOM)\n",
    "registration_method.SetMetricSamplingPercentage(0.2)\n",
    "\n",
    "#OPTIMIZER\n",
    "registration_method.SetOptimizerAsRegularStepGradientDescent(learningRate=1.0, numberOfIterations=300,minStep=0.00001,gradientMagnitudeTolerance=1e-6)\n",
    "#registration_method.SetOptimizerAsGradientDescent(learningRate=1.0, numberOfIterations=200, convergenceMinimumValue=1e-6, convergenceWindowSize=10)\n",
    "registration_method.SetOptimizerScalesFromIndexShift()\n",
    "\n",
    "#Registration\n",
    "registration_method.SetInitialTransform(initial_transform, inPlace=False)\n",
    "final_transform = registration_method.Execute(fixed_image, moving_image)\n",
    "evaluationMetric = registration_method.GetMetricValue()\n",
    "print(f\"Final metric value : {evaluationMetric}\")\n",
    "print(f\"Optimizer's stopping condition : {registration_method.GetOptimizerStopConditionDescription()}\")\n",
    "print(f\"Iteration : {registration_method.GetOptimizerIteration()}\")\n",
    "moving_resampled = sitk.Resample(moving_image, fixed_image, final_transform, sitk.sitkLinear, 0.0, moving_image.GetPixelID())\n"
   ]
  },
  {
   "cell_type": "code",
   "execution_count": 22,
   "id": "e058e6df",
   "metadata": {},
   "outputs": [
    {
     "name": "stdout",
     "output_type": "stream",
     "text": [
      "Image dimensions: Image:  (512, 512)  Image 2: (512, 512)\n"
     ]
    },
    {
     "data": {
      "image/png": "[encoded data removed]",
      "text/plain": [
       "<Figure size 640x480 with 2 Axes>"
      ]
     },
     "metadata": {},
     "output_type": "display_data"
    }
   ],
   "source": [
    "moved_array = sitk.GetArrayFromImage(moving_resampled)\n",
    "print(\"Image dimensions: Image: \",fixed_array.shape,\" Image 2:\", moved_array.shape)\n",
    "plt.subplot(121),plt.imshow(fixed_array)\n",
    "plt.subplot(122),plt.imshow(moved_array)\n",
    "plt.show()"
   ]
  },
  {
   "cell_type": "code",
   "execution_count": 10,
   "id": "7001e66e",
   "metadata": {},
   "outputs": [
    {
     "name": "stdout",
     "output_type": "stream",
     "text": [
      "6899174.0 8228757.0\n",
      "6899174.0 12006442.0\n"
     ]
    }
   ],
   "source": [
    "print(np.sum(fixed_array),np.sum(moved_array))\n",
    "print(np.sum(fixed_array),np.sum(moving_array))"
   ]
  },
  {
   "cell_type": "code",
   "execution_count": null,
   "id": "b2dc1b63",
   "metadata": {},
   "outputs": [],
   "source": []
  },
  {
   "cell_type": "code",
   "execution_count": null,
   "id": "3e407331",
   "metadata": {},
   "outputs": [],
   "source": []
  }
 ],
 "metadata": {
  "kernelspec": {
   "display_name": "Python 3 (ipykernel)",
   "language": "python",
   "name": "python3"
  },
  "language_info": {
   "codemirror_mode": {
    "name": "ipython",
    "version": 3
   },
   "file_extension": ".py",
   "mimetype": "text/x-python",
   "name": "python",
   "nbconvert_exporter": "python",
   "pygments_lexer": "ipython3",
   "version": "3.10.6"
  }
 },
 "nbformat": 4,
 "nbformat_minor": 5
}
